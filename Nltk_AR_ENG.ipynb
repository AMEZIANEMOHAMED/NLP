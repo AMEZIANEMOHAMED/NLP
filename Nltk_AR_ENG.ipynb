{
  "nbformat": 4,
  "nbformat_minor": 0,
  "metadata": {
    "colab": {
      "name": "NLTK.ipynb",
      "provenance": [],
      "collapsed_sections": []
    },
    "kernelspec": {
      "display_name": "Python 3",
      "language": "python",
      "name": "python3"
    },
    "language_info": {
      "codemirror_mode": {
        "name": "ipython",
        "version": 3
      },
      "file_extension": ".py",
      "mimetype": "text/x-python",
      "name": "python",
      "nbconvert_exporter": "python",
      "pygments_lexer": "ipython3",
      "version": "3.8.5"
    }
  },
  "cells": [
    {
      "cell_type": "markdown",
      "metadata": {
        "id": "ETmyuUba4Nkc"
      },
      "source": [
        "# NLTK - Natural Language Toolkit"
      ]
    },
    {
      "cell_type": "markdown",
      "metadata": {
        "id": "E44Se6nF4Nkf"
      },
      "source": [
        "### Importing library NTLK\n"
      ]
    },
    {
      "cell_type": "code",
      "metadata": {
        "id": "DPSChvAQ4Nkg"
      },
      "source": [
        "import nltk, string"
      ],
      "execution_count": 33,
      "outputs": []
    },
    {
      "cell_type": "markdown",
      "metadata": {
        "id": "hwS-88Gp4Nki"
      },
      "source": [
        "### My Tow TEXT"
      ]
    },
    {
      "cell_type": "code",
      "metadata": {
        "id": "6TxRfuxq4Nki"
      },
      "source": [
        "ENG_TXT = \"\"\"Perhaps one of the most significant advances made by Arabic mathematics began at this time with the work of al-Khwarizmi, namely the beginnings of algebra. It is important to understand just how significant this new idea was. It was a revolutionary move away from the Greek concept of mathematics which was essentially geometry. Algebra was a unifying theory which allowedrational numbers,irrational numbers, geometrical magnitudes, etc., to all be treated as \\\"algebraic objects\\\". It gave mathematics a whole new development path so much broader in concept to that which had existed before, and provided a vehicle for future development of the subject. Another important aspect of the introduction of algebraic ideas was that it allowed mathematics to be applied to itselfin a way which had not happened before.\"\"\""
      ],
      "execution_count": 34,
      "outputs": []
    },
    {
      "cell_type": "code",
      "metadata": {
        "id": "E8mBK59k4Nkn"
      },
      "source": [
        "AR_TXT =\"\"\"ربما كانت أحد أهم التطورات التي قامت بها الرياضيات العربية التي بدأت في هذا الوقت بعمل الخوارزمي وهي بدايات الجبر, ومن المهم فهم كيف كانت هذه الفكرة الجديدة مهمة, فقد كانت خطوة نورية بعيدا عن المفهوم اليوناني للرياضيات التي هي في جوهرها هندسة, الجبر کان نظرية موحدة تتيح الأعداد الكسرية والأعداد اللا كسرية, والمقادير الهندسية وغيرها, أن تتعامل على أنها أجسام جبرية, وأعطت الرياضيات ككل مسارا جديدا للتطور بمفهوم أوسع بكثير من الذي كان موجودا من قبل, وقم وسيلة للتنمية في هذا الموضوع مستقبلا. وجانب آخر مهم لإدخال أفكار الجبر وهو أنه سمح بتطبيق الرياضيات على نفسها بطريقة لم تحدث من قبل\"\"\""
      ],
      "execution_count": 35,
      "outputs": []
    },
    {
      "cell_type": "markdown",
      "metadata": {
        "id": "nnMByxT54Nks"
      },
      "source": [
        "#### SHOWING TEXT"
      ]
    },
    {
      "cell_type": "code",
      "metadata": {
        "id": "mjS9BuJ44Nkt",
        "colab": {
          "base_uri": "https://localhost:8080/",
          "height": 120
        },
        "outputId": "98e62333-eb3c-48e1-ba90-a0c077df1ca9"
      },
      "source": [
        "ENG_TXT"
      ],
      "execution_count": 43,
      "outputs": [
        {
          "output_type": "execute_result",
          "data": {
            "application/vnd.google.colaboratory.intrinsic+json": {
              "type": "string"
            },
            "text/plain": [
              "'Perhaps one of the most significant advances made by Arabic mathematics began at this time with the work of al-Khwarizmi, namely the beginnings of algebra. It is important to understand just how significant this new idea was. It was a revolutionary move away from the Greek concept of mathematics which was essentially geometry. Algebra was a unifying theory which allowedrational numbers,irrational numbers, geometrical magnitudes, etc., to all be treated as \"algebraic objects\". It gave mathematics a whole new development path so much broader in concept to that which had existed before, and provided a vehicle for future development of the subject. Another important aspect of the introduction of algebraic ideas was that it allowed mathematics to be applied to itselfin a way which had not happened before.'"
            ]
          },
          "metadata": {
            "tags": []
          },
          "execution_count": 43
        }
      ]
    },
    {
      "cell_type": "code",
      "metadata": {
        "id": "fQFuRLjM4Nkt",
        "colab": {
          "base_uri": "https://localhost:8080/",
          "height": 69
        },
        "outputId": "e38ebee8-6543-4fbe-f1e5-6b9e1a18d488"
      },
      "source": [
        "AR_TXT"
      ],
      "execution_count": 38,
      "outputs": [
        {
          "output_type": "execute_result",
          "data": {
            "application/vnd.google.colaboratory.intrinsic+json": {
              "type": "string"
            },
            "text/plain": [
              "'ربما كانت أحد أهم التطورات التي قامت بها الرياضيات العربية التي بدأت في هذا الوقت بعمل الخوارزمي وهي بدايات الجبر, ومن المهم فهم كيف كانت هذه الفكرة الجديدة مهمة, فقد كانت خطوة نورية بعيدا عن المفهوم اليوناني للرياضيات التي هي في جوهرها هندسة, الجبر کان نظرية موحدة تتيح الأعداد الكسرية والأعداد اللا كسرية, والمقادير الهندسية وغيرها, أن تتعامل على أنها أجسام جبرية, وأعطت الرياضيات ككل مسارا جديدا للتطور بمفهوم أوسع بكثير من الذي كان موجودا من قبل, وقم وسيلة للتنمية في هذا الموضوع مستقبلا. وجانب آخر مهم لإدخال أفكار الجبر وهو أنه سمح بتطبيق الرياضيات على نفسها بطريقة لم تحدث من قبل'"
            ]
          },
          "metadata": {
            "tags": []
          },
          "execution_count": 38
        }
      ]
    },
    {
      "cell_type": "markdown",
      "metadata": {
        "id": "CTft-wjo4Nku"
      },
      "source": [
        "### Tokinization"
      ]
    },
    {
      "cell_type": "code",
      "metadata": {
        "id": "pc_-Ebw64Nkw"
      },
      "source": [
        "from nltk.tokenize import sent_tokenize, word_tokenize"
      ],
      "execution_count": 39,
      "outputs": []
    },
    {
      "cell_type": "markdown",
      "metadata": {
        "id": "nHOXqye84Nkx"
      },
      "source": [
        "#### Tokenize word"
      ]
    },
    {
      "cell_type": "code",
      "metadata": {
        "id": "6-JW23xo4Nkx"
      },
      "source": [
        "ENG_TXT_WORD = word_tokenize(ENG_TXT)\n",
        "AR_TXT_WORD =  word_tokenize(AR_TXT)"
      ],
      "execution_count": 50,
      "outputs": []
    },
    {
      "cell_type": "markdown",
      "metadata": {
        "id": "wIStwxzN-SSg"
      },
      "source": [
        "### SHOWING TOKENISE WORDS IN 2 TEXT"
      ]
    },
    {
      "cell_type": "code",
      "metadata": {
        "id": "rLhbc9mB-KFy"
      },
      "source": [
        "ENG_TXT_WORD"
      ],
      "execution_count": null,
      "outputs": []
    },
    {
      "cell_type": "code",
      "metadata": {
        "id": "ZDmW0PLO-iBJ"
      },
      "source": [
        "AR_TXT_WORD"
      ],
      "execution_count": null,
      "outputs": []
    },
    {
      "cell_type": "markdown",
      "metadata": {
        "id": "DNYYmReu4Nky"
      },
      "source": [
        "#### Tokenize sentence"
      ]
    },
    {
      "cell_type": "code",
      "metadata": {
        "id": "XI_kJY1m4Nky"
      },
      "source": [
        "ENG_TXT_SENT = sent_tokenize(ENG_TXT)\n",
        "AR_TXT_SENT = sent_tokenize(AR_TXT)"
      ],
      "execution_count": 53,
      "outputs": []
    },
    {
      "cell_type": "markdown",
      "metadata": {
        "id": "ZslwEgbH_Nug"
      },
      "source": [
        "### SHOWING SENTENCE "
      ]
    },
    {
      "cell_type": "code",
      "metadata": {
        "id": "s0qIEPGN_S6Z"
      },
      "source": [
        "ENG_TXT_SENT"
      ],
      "execution_count": null,
      "outputs": []
    },
    {
      "cell_type": "code",
      "metadata": {
        "id": "v6AZLdsJ_U2W"
      },
      "source": [
        "AR_TXT_SENT"
      ],
      "execution_count": null,
      "outputs": []
    },
    {
      "cell_type": "markdown",
      "metadata": {
        "id": "PxjyLeon4Nkz"
      },
      "source": [
        "## Filter Stop Words"
      ]
    },
    {
      "cell_type": "code",
      "metadata": {
        "id": "HCFpJo284Nkz"
      },
      "source": [
        "nltk.download(\"stopwords\")\n",
        "from nltk.corpus import stopwords"
      ],
      "execution_count": null,
      "outputs": []
    },
    {
      "cell_type": "code",
      "metadata": {
        "id": "oxBXrOnM4Nkz"
      },
      "source": [
        "ENG_STOP_WORDS = set(stopwords.words(\"english\"))\n",
        "AR_STOP_WORDS = set(stopwords.words(\"arabic\"))"
      ],
      "execution_count": 57,
      "outputs": []
    },
    {
      "cell_type": "code",
      "metadata": {
        "id": "osWHiXDx4Nkz"
      },
      "source": [
        "ENG_TXT_FILTRE = []\n",
        "for word in ENG_TXT_WORD:\n",
        "    if word.casefold() not in ENG_STOP_WORDS:\n",
        "        ENG_TXT_FILTRE.append(word)\n",
        "\n",
        "AR_TXT_FILTRE = []\n",
        "for word in AR_TXT_WORD:\n",
        "    if word.casefold() not in AR_STOP_WORDS:\n",
        "        AR_TXT_FILTRE.append(word)\n"
      ],
      "execution_count": null,
      "outputs": []
    },
    {
      "cell_type": "markdown",
      "metadata": {
        "id": "zmEUsE49BHfC"
      },
      "source": [
        "###SHOWING TEXT \n"
      ]
    },
    {
      "cell_type": "code",
      "metadata": {
        "id": "fhxZTqsXBNtX"
      },
      "source": [
        "ENG_TXT_FILTRE"
      ],
      "execution_count": null,
      "outputs": []
    },
    {
      "cell_type": "code",
      "metadata": {
        "id": "5mFeM9v7BPRz"
      },
      "source": [
        "AR_TXT_FILTRE"
      ],
      "execution_count": null,
      "outputs": []
    },
    {
      "cell_type": "markdown",
      "metadata": {
        "id": "Yx3vnwMX4Nk0"
      },
      "source": [
        "### Stemming\n"
      ]
    },
    {
      "cell_type": "code",
      "metadata": {
        "id": "MMUzeYpy4Nk1",
        "colab": {
          "base_uri": "https://localhost:8080/"
        },
        "outputId": "84c85c4e-caeb-4aec-c54d-eb1eacb06d95"
      },
      "source": [
        "from nltk.stem import PorterStemmer\n",
        "from snowballstemmer import stemmer\n"
      ],
      "execution_count": 74,
      "outputs": [
        {
          "output_type": "stream",
          "text": [
            "[nltk_data] Downloading package averaged_perceptron_tagger to\n",
            "[nltk_data]     /root/nltk_data...\n",
            "[nltk_data]   Unzipping taggers/averaged_perceptron_tagger.zip.\n"
          ],
          "name": "stdout"
        },
        {
          "output_type": "execute_result",
          "data": {
            "text/plain": [
              "True"
            ]
          },
          "metadata": {
            "tags": []
          },
          "execution_count": 74
        }
      ]
    },
    {
      "cell_type": "code",
      "metadata": {
        "id": "saeRdbhM4Nk1"
      },
      "source": [
        "Stemm = PorterStemmer()"
      ],
      "execution_count": 66,
      "outputs": []
    },
    {
      "cell_type": "code",
      "metadata": {
        "id": "cAkEgkj84Nk1"
      },
      "source": [
        "EN_TXT_STEMM = [Stemm.stem(word) for word in ENG_TXT_FILTRE]\n"
      ],
      "execution_count": null,
      "outputs": []
    },
    {
      "cell_type": "markdown",
      "metadata": {
        "id": "G00jNJSsB9Kt"
      },
      "source": [
        "### SHOWING ENGLISH TEXT STEMMING\n"
      ]
    },
    {
      "cell_type": "code",
      "metadata": {
        "id": "soQ9Uo1dCDYv"
      },
      "source": [
        "EN_TXT_STEMM"
      ],
      "execution_count": null,
      "outputs": []
    },
    {
      "cell_type": "code",
      "metadata": {
        "id": "tIhgax3p4Nk2"
      },
      "source": [
        "AR_TXT_STEMM = stemmer(\"arabic\")\n",
        "\n",
        "AR_TXT_STEMM = [AR_TXT_STEMM.stemWord(ar_word) for ar_word in AR_TXT_FILTRE]\n",
        "AR_TXT_STEMM"
      ],
      "execution_count": null,
      "outputs": []
    },
    {
      "cell_type": "markdown",
      "metadata": {
        "id": "uCc7P9Yp4Nk4"
      },
      "source": [
        "<b>Understemming</b> happens when two related words should be reduced to the same stem but aren’t. This is a false negative.\n",
        "<b>Overstemming</b> happens when two unrelated words are reduced to the same stem even though they shouldn’t be. This is a false positive."
      ]
    },
    {
      "cell_type": "markdown",
      "metadata": {
        "id": "_RRMa-ez4Nk4"
      },
      "source": [
        "### Tagging Parts of Speech"
      ]
    },
    {
      "cell_type": "code",
      "metadata": {
        "id": "Jh0sxK_9DMxB"
      },
      "source": [
        "nltk.download('averaged_perceptron_tagger')\n",
        "nltk.download('tagsets')\n"
      ],
      "execution_count": null,
      "outputs": []
    },
    {
      "cell_type": "code",
      "metadata": {
        "id": "HViZ_NTe4Nk5"
      },
      "source": [
        "ENG_POS_TAG = nltk.pos_tag(ENG_TXT_WORD)\n",
        "ENG_POS_TAG"
      ],
      "execution_count": null,
      "outputs": []
    },
    {
      "cell_type": "code",
      "metadata": {
        "id": "wNmx-RX84Nk5"
      },
      "source": [
        "nltk.help.upenn_tagset()"
      ],
      "execution_count": null,
      "outputs": []
    },
    {
      "cell_type": "code",
      "metadata": {
        "id": "QIC1uGS44Nk6"
      },
      "source": [
        "AR_POS_TAG = nltk.pos_tag(AR_TXT_WORD) \n",
        "AR_POS_TAG"
      ],
      "execution_count": null,
      "outputs": []
    },
    {
      "cell_type": "markdown",
      "metadata": {
        "id": "_9Tb0Oc_4Nk6"
      },
      "source": [
        "### Lemmatizing"
      ]
    },
    {
      "cell_type": "code",
      "metadata": {
        "id": "G7Hl4HUr4Nk6",
        "colab": {
          "base_uri": "https://localhost:8080/"
        },
        "outputId": "688e84cc-df1a-48da-c532-0afc2046e5d5"
      },
      "source": [
        "from nltk.stem import WordNetLemmatizer\n",
        "nltk.download('wordnet')"
      ],
      "execution_count": 88,
      "outputs": [
        {
          "output_type": "stream",
          "text": [
            "[nltk_data] Downloading package wordnet to /root/nltk_data...\n",
            "[nltk_data]   Unzipping corpora/wordnet.zip.\n"
          ],
          "name": "stdout"
        },
        {
          "output_type": "execute_result",
          "data": {
            "text/plain": [
              "True"
            ]
          },
          "metadata": {
            "tags": []
          },
          "execution_count": 88
        }
      ]
    },
    {
      "cell_type": "code",
      "metadata": {
        "id": "FLaMpTQy4Nk6"
      },
      "source": [
        "lemmatizer = WordNetLemmatizer()"
      ],
      "execution_count": 85,
      "outputs": []
    },
    {
      "cell_type": "code",
      "metadata": {
        "id": "fdoxxi_x4Nk7"
      },
      "source": [
        "LEMMETIZED_WORDS = [lemmatizer.lemmatize(word) for word in ENG_TXT_WORD]"
      ],
      "execution_count": 102,
      "outputs": []
    },
    {
      "cell_type": "code",
      "metadata": {
        "id": "4xEeB6S34Nk7"
      },
      "source": [
        "LEMMETIZED_WORDS"
      ],
      "execution_count": null,
      "outputs": []
    },
    {
      "cell_type": "markdown",
      "metadata": {
        "id": "hyO3TK-W4Nk7"
      },
      "source": [
        "### Chunking"
      ]
    },
    {
      "cell_type": "code",
      "metadata": {
        "id": "AHpWaYCG4Nk8"
      },
      "source": [
        "grammar = \"NP: {<DT>?<JJ>*<NN>}\""
      ],
      "execution_count": 93,
      "outputs": []
    },
    {
      "cell_type": "code",
      "metadata": {
        "id": "C3bZ4oSs4Nk8"
      },
      "source": [
        "chunk_parser = nltk.RegexpParser(grammar)"
      ],
      "execution_count": 94,
      "outputs": []
    },
    {
      "cell_type": "code",
      "metadata": {
        "id": "vYMGx3FW4Nk8"
      },
      "source": [
        "!pip install ghostscript"
      ],
      "execution_count": null,
      "outputs": []
    },
    {
      "cell_type": "code",
      "metadata": {
        "id": "L2axxysK4Nk8"
      },
      "source": [
        "import ghostscript"
      ],
      "execution_count": null,
      "outputs": []
    },
    {
      "cell_type": "code",
      "metadata": {
        "id": "76kKCMGh4Nk9"
      },
      "source": [
        "chunk_parser.parse(ENG_POS_TAG)"
      ],
      "execution_count": null,
      "outputs": []
    },
    {
      "cell_type": "code",
      "metadata": {
        "id": "ZzSf2Z1m4Nk9"
      },
      "source": [
        "tree.draw()"
      ],
      "execution_count": null,
      "outputs": []
    },
    {
      "cell_type": "markdown",
      "metadata": {
        "id": "p9n6tGe74Nk9"
      },
      "source": [
        "### Printing Dependencies"
      ]
    },
    {
      "cell_type": "code",
      "metadata": {
        "id": "39AqrxkF4Nk9"
      },
      "source": [
        "%load_ext watermark"
      ],
      "execution_count": null,
      "outputs": []
    },
    {
      "cell_type": "code",
      "metadata": {
        "id": "YpkCaTqg4Nk-"
      },
      "source": [
        "%watermark --iversions"
      ],
      "execution_count": null,
      "outputs": []
    }
  ]
}